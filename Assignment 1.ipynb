{
 "cells": [
  {
   "cell_type": "code",
   "execution_count": 1,
   "id": "4663928f-fb9e-410d-8131-317b17ef69d1",
   "metadata": {},
   "outputs": [
    {
     "name": "stdout",
     "output_type": "stream",
     "text": [
      "<class 'int'> 8\n",
      "<class 'str'> Teja\n",
      "<class 'float'> 0.99\n",
      "<class 'complex'> (3+8j)\n",
      "<class 'list'> [1, 3, 5, 4]\n",
      "<class 'set'> {2, 3, 4, 5, 6}\n",
      "<class 'tuple'> (6, 7, 8, 9)\n",
      "<class 'dict'> {'name': 'Teja', 'Roll_no': 41611093}\n",
      "<class 'bool'> True\n"
     ]
    }
   ],
   "source": [
    "# Create Variables with any Object using Various Naming Conventions\n",
    "#integer\n",
    "x=8\n",
    "print(type(x),x)\n",
    "#string\n",
    "name=\"Teja\"\n",
    "print(type(name),name)\n",
    "#float\n",
    "y=0.99\n",
    "print(type(y),y)\n",
    "#complex\n",
    "z=3+8j\n",
    "print(type(z),z)\n",
    "#list\n",
    "List=[1,3,5,4]\n",
    "print(type(List),List)\n",
    "#set\n",
    "Set={4,3,2,5,6}\n",
    "print(type(Set),Set)\n",
    "#tuple\n",
    "Tuple=(6,7,8,9)\n",
    "print(type(Tuple),Tuple)\n",
    "#dictionary\n",
    "students={\"name\":\"Teja\",\"Roll_no\":41611093}\n",
    "print(type(students),students)\n",
    "#boolean\n",
    "d=True\n",
    "print(type(d),d)"
   ]
  },
  {
   "cell_type": "code",
   "execution_count": 2,
   "id": "0fc186be-7ad4-4311-97ad-c1f771cbf2ee",
   "metadata": {},
   "outputs": [
    {
     "name": "stdout",
     "output_type": "stream",
     "text": [
      "Teja\n",
      "ajeT\n"
     ]
    }
   ],
   "source": [
    "#Reverse a String using slicing\n",
    "print(name)\n",
    "rev_name=name[::-1]\n",
    "print(rev_name)"
   ]
  },
  {
   "cell_type": "code",
   "execution_count": 3,
   "id": "b54bb221-783e-43cd-8344-f014c4f9bc7b",
   "metadata": {},
   "outputs": [
    {
     "name": "stdout",
     "output_type": "stream",
     "text": [
      "['__abs__', '__add__', '__and__', '__bool__', '__ceil__', '__class__', '__delattr__', '__dir__', '__divmod__', '__doc__', '__eq__', '__float__', '__floor__', '__floordiv__', '__format__', '__ge__', '__getattribute__', '__getnewargs__', '__getstate__', '__gt__', '__hash__', '__index__', '__init__', '__init_subclass__', '__int__', '__invert__', '__le__', '__lshift__', '__lt__', '__mod__', '__mul__', '__ne__', '__neg__', '__new__', '__or__', '__pos__', '__pow__', '__radd__', '__rand__', '__rdivmod__', '__reduce__', '__reduce_ex__', '__repr__', '__rfloordiv__', '__rlshift__', '__rmod__', '__rmul__', '__ror__', '__round__', '__rpow__', '__rrshift__', '__rshift__', '__rsub__', '__rtruediv__', '__rxor__', '__setattr__', '__sizeof__', '__str__', '__sub__', '__subclasshook__', '__truediv__', '__trunc__', '__xor__', 'as_integer_ratio', 'bit_count', 'bit_length', 'conjugate', 'denominator', 'from_bytes', 'imag', 'is_integer', 'numerator', 'real', 'to_bytes']\n",
      "11\n",
      "Help on method-wrapper:\n",
      "\n",
      "__invert__()\n",
      "    ~self\n",
      "\n"
     ]
    },
    {
     "data": {
      "text/plain": [
       "-9"
      ]
     },
     "execution_count": 3,
     "metadata": {},
     "output_type": "execute_result"
    }
   ],
   "source": [
    "# Explore dir() & help()\n",
    "print(dir(x))\n",
    "print(x.__add__(3))\n",
    "help(x.__invert__)\n",
    "#gives the bitwise inverse of the number\n",
    "x.__invert__()"
   ]
  },
  {
   "cell_type": "code",
   "execution_count": 4,
   "id": "aef4c7d3-fb0a-41e8-b8d1-5f4f63addd15",
   "metadata": {},
   "outputs": [
    {
     "name": "stdout",
     "output_type": "stream",
     "text": [
      "['BPF', 'LOG4', 'NV_MAGICCONST', 'RECIP_BPF', 'Random', 'SG_MAGICCONST', 'SystemRandom', 'TWOPI', '_ONE', '_Sequence', '__all__', '__builtins__', '__cached__', '__doc__', '__file__', '__loader__', '__name__', '__package__', '__spec__', '_accumulate', '_acos', '_bisect', '_ceil', '_cos', '_e', '_exp', '_fabs', '_floor', '_index', '_inst', '_isfinite', '_lgamma', '_log', '_log2', '_os', '_pi', '_random', '_repeat', '_sha512', '_sin', '_sqrt', '_test', '_test_generator', '_urandom', '_warn', 'betavariate', 'binomialvariate', 'choice', 'choices', 'expovariate', 'gammavariate', 'gauss', 'getrandbits', 'getstate', 'lognormvariate', 'normalvariate', 'paretovariate', 'randbytes', 'randint', 'random', 'randrange', 'sample', 'seed', 'setstate', 'shuffle', 'triangular', 'uniform', 'vonmisesvariate', 'weibullvariate']\n"
     ]
    }
   ],
   "source": [
    "# List out available attributes for dir()\n",
    "import random\n",
    "print(dir(random))"
   ]
  },
  {
   "cell_type": "code",
   "execution_count": 5,
   "id": "92e58a6a-e6a0-4d07-b5b0-fd2c5702be76",
   "metadata": {},
   "outputs": [
    {
     "name": "stdout",
     "output_type": "stream",
     "text": [
      "Help on built-in function index in module _operator:\n",
      "\n",
      "index(a, /)\n",
      "    Same as a.__index__()\n",
      "\n"
     ]
    },
    {
     "data": {
      "text/plain": [
       "98"
      ]
     },
     "execution_count": 5,
     "metadata": {},
     "output_type": "execute_result"
    }
   ],
   "source": [
    "# Experiment those attributes using help()\n",
    "help(random._index)\n",
    "random._index(98)"
   ]
  },
  {
   "cell_type": "code",
   "execution_count": null,
   "id": "6c26be2d-988d-49ef-8791-f93318693d5a",
   "metadata": {},
   "outputs": [],
   "source": []
  }
 ],
 "metadata": {
  "kernelspec": {
   "display_name": "Python 3 (ipykernel)",
   "language": "python",
   "name": "python3"
  },
  "language_info": {
   "codemirror_mode": {
    "name": "ipython",
    "version": 3
   },
   "file_extension": ".py",
   "mimetype": "text/x-python",
   "name": "python",
   "nbconvert_exporter": "python",
   "pygments_lexer": "ipython3",
   "version": "3.12.0"
  }
 },
 "nbformat": 4,
 "nbformat_minor": 5
}
